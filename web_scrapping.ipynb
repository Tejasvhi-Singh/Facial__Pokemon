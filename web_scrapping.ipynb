{
 "cells": [
  {
   "cell_type": "markdown",
   "metadata": {},
   "source": [
    "Collecting the Response"
   ]
  },
  {
   "cell_type": "code",
   "execution_count": 44,
   "metadata": {},
   "outputs": [
    {
     "name": "stdout",
     "output_type": "stream",
     "text": [
      "Page loaded successfully!\n"
     ]
    }
   ],
   "source": [
    "import requests\n",
    "\n",
    "url = \"https://bulbapedia.bulbagarden.net/wiki/List_of_Pok%C3%A9mon_by_National_Pok%C3%A9dex_number\"\n",
    "response = requests.get(url)\n",
    "\n",
    "if response.status_code == 200:\n",
    "    print(\"Page loaded successfully!\")\n",
    "    html_content = response.text \n",
    "else:\n",
    "    print(f\"Failed to load the page. Status code: {response.status_code}\")\n",
    "\n",
    "with open('output.txt', 'w') as file:\n",
    "    file.write(response.text)"
   ]
  },
  {
   "cell_type": "markdown",
   "metadata": {},
   "source": [
    "Makeing the CSV from Request"
   ]
  },
  {
   "cell_type": "code",
   "execution_count": 45,
   "metadata": {},
   "outputs": [
    {
     "name": "stdout",
     "output_type": "stream",
     "text": [
      "Data saved to pokemon_data.csv\n"
     ]
    }
   ],
   "source": [
    "import csv\n",
    "from bs4 import BeautifulSoup\n",
    "soup = BeautifulSoup(response.text, \"html.parser\")\n",
    "pokemon_data = []\n",
    "pokemon_data.append([\"#\", \"Name\", \"Type\"])\n",
    "rows = soup.find_all(\"tr\", style=\"background:#FFF\")\n",
    "for index, row in enumerate(rows, start=1):\n",
    "    title = row.find_all(\"a\")[1].get(\"title\").split(\" \")[:-1]\n",
    "    title = \" \".join(title)\n",
    "    title = title.lower()\n",
    "    form = row.find(\"small\")\n",
    "    if form:\n",
    "        form_text = form.get_text().strip()\n",
    "        if \"Alolan\" in form_text:\n",
    "            title += \"_Alolan\"\n",
    "        elif \"Galarian\" in form_text:\n",
    "            title += \"_Galarian\"\n",
    "    types = row.find_all(\"a\")[2:]\n",
    "    types = [t.get(\"title\").replace(\" (type)\", \"\") for t in types]\n",
    "    types = \",\".join(types)\n",
    "    pokemon_data.append([index, title, types])\n",
    "with open(\"pokemon_data.csv\", \"w\", newline=\"\") as file:\n",
    "    writer = csv.writer(file)\n",
    "    writer.writerows(pokemon_data)\n",
    "\n",
    "print(\"Data saved to pokemon_data.csv\")"
   ]
  },
  {
   "cell_type": "markdown",
   "metadata": {},
   "source": [
    "IMAGES OF POKEMON\n",
    "\n",
    "We downloaded it from kaggle and used the below code to map the Images to the CSV file we Previously Created, Cleaning the Data-Set with no Images"
   ]
  },
  {
   "cell_type": "code",
   "execution_count": 46,
   "metadata": {},
   "outputs": [],
   "source": [
    "import os\n",
    "import pandas as pd\n",
    "\n",
    "folder_path = \"Pokemon_Dataset\"\n",
    "df = pd.read_csv(\"pokemon_data.csv\")\n",
    "df[\"Image_ID\"] = \"\"\n",
    "df[\"Image_Path\"] = \"\"\n",
    "\n",
    "new_images = {}\n",
    "for filename in os.listdir(folder_path):\n",
    "    if filename.endswith(\".png\"):\n",
    "        pokemon_name = filename[:-4]\n",
    "        if pokemon_name in df[\"Name\"].values:\n",
    "            image_id = df.loc[df[\"Name\"] == pokemon_name, \"#\"].values[0]\n",
    "            new_image_name = f\"{image_id}_{pokemon_name}.png\"\n",
    "            new_images[filename] = new_image_name\n",
    "            df.loc[df[\"Name\"] == pokemon_name, \"Image_ID\"] = new_image_name\n",
    "            df.loc[df[\"Name\"] == pokemon_name, \"Image_Path\"] = os.path.join(folder_path, new_image_name)\n",
    "            os.rename(os.path.join(folder_path, filename), os.path.join(folder_path, new_image_name))\n",
    "df = df[df[\"Image_ID\"] != \"\"]\n",
    "df.to_csv(\"pokemon_data.csv\", index=False)"
   ]
  }
 ],
 "metadata": {
  "kernelspec": {
   "display_name": "Python 3",
   "language": "python",
   "name": "python3"
  },
  "language_info": {
   "codemirror_mode": {
    "name": "ipython",
    "version": 3
   },
   "file_extension": ".py",
   "mimetype": "text/x-python",
   "name": "python",
   "nbconvert_exporter": "python",
   "pygments_lexer": "ipython3",
   "version": "3.12.3"
  }
 },
 "nbformat": 4,
 "nbformat_minor": 2
}

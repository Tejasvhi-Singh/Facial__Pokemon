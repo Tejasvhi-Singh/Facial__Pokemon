{
 "cells": [
  {
   "cell_type": "code",
   "execution_count": 88,
   "metadata": {},
   "outputs": [
    {
     "name": "stdout",
     "output_type": "stream",
     "text": [
      "Requirement already satisfied: requests in /Library/Frameworks/Python.framework/Versions/3.12/lib/python3.12/site-packages (2.31.0)\n",
      "Requirement already satisfied: charset-normalizer<4,>=2 in /Library/Frameworks/Python.framework/Versions/3.12/lib/python3.12/site-packages (from requests) (3.3.2)\n",
      "Requirement already satisfied: idna<4,>=2.5 in /Library/Frameworks/Python.framework/Versions/3.12/lib/python3.12/site-packages (from requests) (3.7)\n",
      "Requirement already satisfied: urllib3<3,>=1.21.1 in /Library/Frameworks/Python.framework/Versions/3.12/lib/python3.12/site-packages (from requests) (2.2.1)\n",
      "Requirement already satisfied: certifi>=2017.4.17 in /Library/Frameworks/Python.framework/Versions/3.12/lib/python3.12/site-packages (from requests) (2024.2.2)\n"
     ]
    }
   ],
   "source": [
    "!pip install requests"
   ]
  },
  {
   "cell_type": "markdown",
   "metadata": {},
   "source": [
    "Collecting the Response"
   ]
  },
  {
   "cell_type": "code",
   "execution_count": 89,
   "metadata": {},
   "outputs": [
    {
     "name": "stdout",
     "output_type": "stream",
     "text": [
      "Page loaded successfully!\n"
     ]
    }
   ],
   "source": [
    "import requests\n",
    "url = \"https://bulbapedia.bulbagarden.net/wiki/List_of_Pok%C3%A9mon_by_National_Pok%C3%A9dex_number\"\n",
    "response = requests.get(url)\n",
    "\n",
    "if response.status_code == 200:\n",
    "    print(\"Page loaded successfully!\")\n",
    "    html_content = response.text \n",
    "else:\n",
    "    print(f\"Failed to load the page. Status code: {response.status_code}\")\n",
    "\n",
    "with open('output.txt', 'w') as file:\n",
    "    file.write(response.text)"
   ]
  },
  {
   "cell_type": "markdown",
   "metadata": {},
   "source": [
    "Makeing the CSV from Request"
   ]
  },
  {
   "cell_type": "code",
   "execution_count": 90,
   "metadata": {},
   "outputs": [],
   "source": [
    "from bs4 import BeautifulSoup\n",
    "soup = BeautifulSoup(response.text, \"html.parser\")\n",
    "pokemon_data = []\n",
    "pokemon_data.append([\"#\", \"Name\", \"Type\"])\n",
    "rows = soup.find_all(\"tr\", style=\"background:#FFF\")\n",
    "for index, row in enumerate(rows, start=1):\n",
    "    title = row.find_all(\"a\")[1].get(\"title\").split(\" \")[:-1]\n",
    "    title = \" \".join(title)\n",
    "    form = row.find(\"small\")\n",
    "    if form:\n",
    "        form_text = form.get_text().strip()\n",
    "        if \"Alolan\" in form_text:\n",
    "            title += \"_Alolan\"\n",
    "        elif \"Galarian\" in form_text:\n",
    "            title += \"_Galarian\"\n",
    "    types = row.find_all(\"a\")[2:]\n",
    "    types = [t.get(\"title\").replace(\" (type)\", \"\") for t in types]\n",
    "    types = \",\".join(types)\n",
    "    pokemon_data.append([index, title, types])\n",
    "with open(\"pokemon_data.csv\", \"w\", newline=\"\") as file:\n",
    "    writer = csv.writer(file)\n",
    "    writer.writerows(pokemon_data)"
   ]
  },
  {
   "cell_type": "code",
   "execution_count": 91,
   "metadata": {},
   "outputs": [
    {
     "name": "stdout",
     "output_type": "stream",
     "text": [
      "Image downloaded successfully.\n"
     ]
    }
   ],
   "source": [
    "import requests\n",
    "image_link = \"https://bulbapedia.bulbagarden.net/wiki/Bulbasaur_(Pokémon)#/media/File:0001Bulbasaur.png\"\n",
    "response = requests.get(image_link)\n",
    "if response.status_code == 200:\n",
    "    with open(\"venusaur.png\", \"wb\") as file:\n",
    "        file.write(response.content)\n",
    "    print(\"Image downloaded successfully.\")\n",
    "else:\n",
    "    print(f\"Failed to download the image. Status code: {response.status_code}\")"
   ]
  },
  {
   "cell_type": "code",
   "execution_count": null,
   "metadata": {},
   "outputs": [],
   "source": [
    "import pandas as pd\n",
    "url = \"https://bulbapedia.bulbagarden.net/wiki/Bulbasaur_(Pokémon)#/media/File:0001Bulbasaur.png\"\n",
    "df = pd.read_csv(\"pokemon_data.csv\")\n",
    "df[\"Name\"] = df[\"Name\"].str.upper()\n",
    "df[\"#\"] = df.index + 1\n",
    "\n",
    "df.head()"
   ]
  },
  {
   "cell_type": "markdown",
   "metadata": {},
   "source": [
    "Now Downloading the Images as # respectively"
   ]
  },
  {
   "cell_type": "code",
   "execution_count": null,
   "metadata": {},
   "outputs": [],
   "source": []
  }
 ],
 "metadata": {
  "kernelspec": {
   "display_name": "Python 3",
   "language": "python",
   "name": "python3"
  },
  "language_info": {
   "codemirror_mode": {
    "name": "ipython",
    "version": 3
   },
   "file_extension": ".py",
   "mimetype": "text/x-python",
   "name": "python",
   "nbconvert_exporter": "python",
   "pygments_lexer": "ipython3",
   "version": "3.12.3"
  }
 },
 "nbformat": 4,
 "nbformat_minor": 2
}
